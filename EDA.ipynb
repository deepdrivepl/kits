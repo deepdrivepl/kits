{
 "cells": [
  {
   "cell_type": "code",
   "execution_count": 9,
   "id": "2addc7aa-1337-40d3-b459-a370f986b1e6",
   "metadata": {},
   "outputs": [],
   "source": [
    "import nibabel as nib\n",
    "import numpy as np\n",
    "from glob import glob\n",
    "from tqdm import tqdm\n",
    "import matplotlib.pyplot as plt\n",
    "import seaborn as sns\n",
    "sns.set(style='white', font_scale=1.5)"
   ]
  },
  {
   "cell_type": "code",
   "execution_count": 10,
   "id": "67a90f96-67c8-4871-9ef5-0a08399cd176",
   "metadata": {},
   "outputs": [],
   "source": [
    "img_paths = sorted(glob('kits23/dataset/*/imaging.nii.gz'))\n",
    "seg_paths = sorted(glob('kits23/dataset/*/segmentation.nii.gz'))"
   ]
  },
  {
   "cell_type": "code",
   "execution_count": 11,
   "id": "032beb4d-304b-4d34-84ba-0df8f143d763",
   "metadata": {},
   "outputs": [
    {
     "data": {
      "text/plain": [
       "(489, 489)"
      ]
     },
     "execution_count": 11,
     "metadata": {},
     "output_type": "execute_result"
    }
   ],
   "source": [
    "len(img_paths), len(seg_paths)"
   ]
  },
  {
   "cell_type": "markdown",
   "id": "08161515-c5ce-4a6c-87af-f80a73c350e5",
   "metadata": {},
   "source": [
    "Example image with mask:"
   ]
  },
  {
   "cell_type": "code",
   "execution_count": 5,
   "id": "d8d384a1-f98a-4b05-9c58-1df01a8eeb33",
   "metadata": {},
   "outputs": [
    {
     "data": {
      "text/plain": [
       "(611, 512, 512)"
      ]
     },
     "execution_count": 5,
     "metadata": {},
     "output_type": "execute_result"
    }
   ],
   "source": [
    "img = nib.load(img_paths[0]).get_fdata()\n",
    "img.shape"
   ]
  },
  {
   "cell_type": "code",
   "execution_count": 172,
   "id": "7ed80c71-35dd-4e0b-b226-25cdfce53d0a",
   "metadata": {},
   "outputs": [
    {
     "data": {
      "text/plain": [
       "(611, 512, 512)"
      ]
     },
     "execution_count": 172,
     "metadata": {},
     "output_type": "execute_result"
    }
   ],
   "source": [
    "seg = nib.load(seg_paths[0]).get_fdata()\n",
    "seg.shape"
   ]
  },
  {
   "cell_type": "code",
   "execution_count": null,
   "id": "72288f9f-c3ac-4860-8c25-21b5c593e5d3",
   "metadata": {},
   "outputs": [],
   "source": [
    "plt.figure(figsize=(20,15))\n",
    "plt.subplot(121)\n",
    "plt.imshow(img[300], cmap='gray')\n",
    "plt.subplot(122)\n",
    "plt.imshow(seg[300]);"
   ]
  },
  {
   "cell_type": "code",
   "execution_count": 18,
   "id": "0699ac67-932b-4b6c-b061-608b61e37dfb",
   "metadata": {},
   "outputs": [
    {
     "data": {
      "text/plain": [
       "array([0., 1., 2.])"
      ]
     },
     "execution_count": 18,
     "metadata": {},
     "output_type": "execute_result"
    }
   ],
   "source": [
    "np.unique(seg[300])"
   ]
  },
  {
   "cell_type": "markdown",
   "id": "f04e1376-3cfb-4d5c-95a6-a0175975fe2b",
   "metadata": {},
   "source": [
    "With cyst:"
   ]
  },
  {
   "cell_type": "code",
   "execution_count": 176,
   "id": "47558d47-17b9-49be-9669-49fbea66bda7",
   "metadata": {},
   "outputs": [
    {
     "data": {
      "text/plain": [
       "'kits23/dataset/case_00002/segmentation.nii.gz'"
      ]
     },
     "execution_count": 176,
     "metadata": {},
     "output_type": "execute_result"
    }
   ],
   "source": [
    "seg_paths[2]"
   ]
  },
  {
   "cell_type": "code",
   "execution_count": 174,
   "id": "4e21ae10-7723-4d7a-9546-da63a44b048a",
   "metadata": {},
   "outputs": [
    {
     "data": {
      "text/plain": [
       "(261, 512, 512)"
      ]
     },
     "execution_count": 174,
     "metadata": {},
     "output_type": "execute_result"
    }
   ],
   "source": [
    "seg = nib.load(seg_paths[2]).get_fdata()\n",
    "seg.shape"
   ]
  },
  {
   "cell_type": "code",
   "execution_count": 175,
   "id": "c0bcc2ad-c115-4b49-af6e-1645edf96dab",
   "metadata": {},
   "outputs": [
    {
     "data": {
      "text/plain": [
       "array([0., 1., 2., 3.])"
      ]
     },
     "execution_count": 175,
     "metadata": {},
     "output_type": "execute_result"
    }
   ],
   "source": [
    "np.unique(seg)"
   ]
  },
  {
   "cell_type": "code",
   "execution_count": 36,
   "id": "bc665a60-cb7b-4ee0-a01f-4b4fcdd31762",
   "metadata": {},
   "outputs": [],
   "source": [
    "img = nib.load(img_paths[2]).get_fdata()\n",
    "seg = nib.load(seg_paths[2]).get_fdata()"
   ]
  },
  {
   "cell_type": "code",
   "execution_count": null,
   "id": "2e32a07d-f1ef-47e3-9be9-4abda205dd42",
   "metadata": {},
   "outputs": [],
   "source": [
    "plt.figure(figsize=(20,15))\n",
    "plt.subplot(121)\n",
    "plt.imshow(img[70], cmap='gray')\n",
    "plt.subplot(122)\n",
    "plt.title('Cyst')\n",
    "plt.imshow(seg[70]);"
   ]
  },
  {
   "cell_type": "code",
   "execution_count": 42,
   "id": "591f77cb-02d6-45bf-b988-6619fd69fad8",
   "metadata": {},
   "outputs": [
    {
     "data": {
      "text/plain": [
       "array([0., 1., 3.])"
      ]
     },
     "execution_count": 42,
     "metadata": {},
     "output_type": "execute_result"
    }
   ],
   "source": [
    "np.unique(seg[70])"
   ]
  },
  {
   "cell_type": "code",
   "execution_count": null,
   "id": "f94a33c7-31c1-474a-ac78-9df9ab2dd2a3",
   "metadata": {},
   "outputs": [],
   "source": [
    "plt.figure(figsize=(20,15))\n",
    "plt.subplot(121)\n",
    "plt.imshow(img[170], cmap='gray')\n",
    "plt.subplot(122)\n",
    "plt.title('Tumor')\n",
    "plt.imshow(seg[170]);"
   ]
  },
  {
   "cell_type": "code",
   "execution_count": 43,
   "id": "547d32f5-4d91-4586-9d9b-bfaba1c9c81e",
   "metadata": {},
   "outputs": [
    {
     "data": {
      "text/plain": [
       "array([0., 1., 2.])"
      ]
     },
     "execution_count": 43,
     "metadata": {},
     "output_type": "execute_result"
    }
   ],
   "source": [
    "np.unique(seg[170])"
   ]
  },
  {
   "cell_type": "markdown",
   "id": "d60c2c1b-0d7c-44ad-8880-9169cbeab9b8",
   "metadata": {},
   "source": [
    "## Shapes"
   ]
  },
  {
   "cell_type": "code",
   "execution_count": 100,
   "id": "47fca6e2-a86f-4415-99bf-ab038ed79faf",
   "metadata": {},
   "outputs": [
    {
     "name": "stderr",
     "output_type": "stream",
     "text": [
      "100%|██████████| 489/489 [14:54<00:00,  1.83s/it]\n"
     ]
    }
   ],
   "source": [
    "shapes = []\n",
    "for img_path in tqdm(img_paths):\n",
    "    img = nib.load(img_path).get_fdata()\n",
    "    shapes.append(img.shape)"
   ]
  },
  {
   "cell_type": "code",
   "execution_count": 101,
   "id": "b23a462c-b783-45ca-a786-81436edac024",
   "metadata": {},
   "outputs": [],
   "source": [
    "shapes = np.asarray(shapes)"
   ]
  },
  {
   "cell_type": "markdown",
   "id": "865d2537-6913-4062-8b36-55a1bdc53757",
   "metadata": {},
   "source": [
    "Min and max shape in each axis:"
   ]
  },
  {
   "cell_type": "code",
   "execution_count": 62,
   "id": "2ed60b88-27b1-47b3-8859-4428bf3e3f65",
   "metadata": {},
   "outputs": [
    {
     "name": "stdout",
     "output_type": "stream",
     "text": [
      "0 29 1059\n",
      "1 512 512\n",
      "2 512 796\n"
     ]
    }
   ],
   "source": [
    "for i in range(3):\n",
    "    print(i, np.min(shapes[:,i]), np.max(shapes[:,i]))"
   ]
  },
  {
   "cell_type": "code",
   "execution_count": 67,
   "id": "e8790c2b-1d8c-46ac-9e99-eb757a728a05",
   "metadata": {},
   "outputs": [
    {
     "data": {
      "text/plain": [
       "array([  29,   30,   32,   34,   35,   36,   37,   38,   40,   41,   42,\n",
       "         43,   44,   45,   46,   47,   48,   49,   50,   51,   52,   53,\n",
       "         54,   55,   56,   57,   58,   59,   60,   61,   62,   63,   64,\n",
       "         65,   66,   68,   69,   70,   72,   73,   75,   76,   77,   79,\n",
       "         80,   81,   82,   83,   84,   85,   86,   87,   88,   89,   90,\n",
       "         91,   92,   93,   94,   95,   96,   97,   98,   99,  100,  101,\n",
       "        102,  103,  104,  105,  106,  107,  109,  110,  113,  114,  116,\n",
       "        117,  118,  119,  121,  124,  125,  127,  129,  131,  132,  133,\n",
       "        135,  137,  139,  140,  141,  142,  143,  144,  145,  146,  149,\n",
       "        150,  151,  152,  153,  154,  155,  157,  159,  160,  161,  162,\n",
       "        163,  164,  165,  167,  171,  172,  174,  175,  177,  178,  180,\n",
       "        181,  183,  184,  186,  189,  190,  193,  195,  197,  198,  199,\n",
       "        202,  204,  206,  207,  209,  210,  211,  215,  225,  226,  227,\n",
       "        228,  233,  234,  235,  238,  244,  248,  250,  252,  253,  256,\n",
       "        258,  261,  262,  266,  269,  270,  274,  276,  279,  284,  285,\n",
       "        301,  302,  304,  314,  316,  325,  326,  337,  344,  345,  349,\n",
       "        365,  381,  383,  389,  411,  423,  433,  439,  445,  446,  452,\n",
       "        454,  457,  460,  463,  468,  470,  472,  475,  479,  484,  491,\n",
       "        492,  493,  499,  505,  511,  512,  525,  527,  532,  538,  540,\n",
       "        541,  548,  553,  564,  581,  591,  598,  602,  611,  612,  615,\n",
       "        617,  620,  623,  624,  626,  632,  634,  636,  653,  654,  665,\n",
       "        670,  673,  680,  683,  705,  719,  723,  727,  734,  735,  738,\n",
       "        743,  787,  834,  975,  987, 1059])"
      ]
     },
     "execution_count": 67,
     "metadata": {},
     "output_type": "execute_result"
    }
   ],
   "source": [
    "np.unique(shapes[:,0])"
   ]
  },
  {
   "cell_type": "code",
   "execution_count": 68,
   "id": "2051fcf5-d58d-477e-81fc-f8c906fe5983",
   "metadata": {},
   "outputs": [
    {
     "data": {
      "text/plain": [
       "array([512])"
      ]
     },
     "execution_count": 68,
     "metadata": {},
     "output_type": "execute_result"
    }
   ],
   "source": [
    "np.unique(shapes[:,1])"
   ]
  },
  {
   "cell_type": "code",
   "execution_count": 69,
   "id": "e2a30675-b97c-4d7e-a67c-4c3c88247ba6",
   "metadata": {},
   "outputs": [
    {
     "data": {
      "text/plain": [
       "array([512, 632, 651, 796])"
      ]
     },
     "execution_count": 69,
     "metadata": {},
     "output_type": "execute_result"
    }
   ],
   "source": [
    "np.unique(shapes[:,2])"
   ]
  },
  {
   "cell_type": "code",
   "execution_count": 104,
   "id": "44044918-2820-4796-8071-8a7ce6a224d2",
   "metadata": {},
   "outputs": [],
   "source": [
    "shapes_1ax, counts_1ax = np.unique(shapes[:,1:], return_counts=True, axis=0)\n",
    "shapes_2ax, counts_2ax = np.unique(shapes[:,0:3:2,], return_counts=True, axis=0)\n",
    "shapes_3ax, counts_3ax = np.unique(shapes[:,:2], return_counts=True, axis=0)"
   ]
  },
  {
   "cell_type": "code",
   "execution_count": null,
   "id": "8b77a0c2-7b94-45ac-86d2-9bfa8cf3912b",
   "metadata": {},
   "outputs": [],
   "source": [
    "plt.figure(figsize=(30,10))\n",
    "plt.subplot(131)\n",
    "plt.scatter(shapes_1ax[:,0], shapes_1ax[:,1], s=counts_1ax^2)\n",
    "plt.title('1st axis')\n",
    "\n",
    "plt.subplot(132)\n",
    "plt.scatter(shapes_2ax[:,0], shapes_2ax[:,1], s=counts_2ax^2)\n",
    "plt.title('2nd axis')\n",
    "\n",
    "plt.subplot(133)\n",
    "plt.scatter(shapes_3ax[:,0], shapes_3ax[:,1], s=counts_3ax^2)\n",
    "plt.title('3rd axis');"
   ]
  },
  {
   "cell_type": "markdown",
   "id": "002e550b-bd95-41e1-9d2f-f1b69e0d5d84",
   "metadata": {
    "tags": []
   },
   "source": [
    "### Shapes after orientation and spacing transform"
   ]
  },
  {
   "cell_type": "code",
   "execution_count": 69,
   "id": "0e8cc8ce-1ee8-4cfb-bbb0-9bef893a0cb4",
   "metadata": {},
   "outputs": [],
   "source": [
    "from monai.transforms import Compose, LoadImage, Orientation, Spacing"
   ]
  },
  {
   "cell_type": "code",
   "execution_count": 119,
   "id": "14e85ec9-59ef-4f62-9c69-9035c4b43ea4",
   "metadata": {},
   "outputs": [],
   "source": [
    "t = Compose([LoadImage(image_only=True,\n",
    "                       ensure_channel_first=True),\n",
    "             Orientation(axcodes=\"RAS\"),\n",
    "             Spacing(pixdim=(1.0, 1.0, 1.0))])"
   ]
  },
  {
   "cell_type": "code",
   "execution_count": 120,
   "id": "b1b2464f-238d-4f20-a2fa-ff1185dbb283",
   "metadata": {},
   "outputs": [
    {
     "name": "stderr",
     "output_type": "stream",
     "text": [
      "100%|██████████| 489/489 [1:26:01<00:00, 10.55s/it]\n"
     ]
    }
   ],
   "source": [
    "shapes = []\n",
    "for img_path in tqdm(img_paths):\n",
    "    img = t(img_path)\n",
    "    shapes.append(img.shape[1:])"
   ]
  },
  {
   "cell_type": "code",
   "execution_count": 121,
   "id": "bc422677-6772-47ab-bf99-5b2c5b2f71b7",
   "metadata": {},
   "outputs": [],
   "source": [
    "shapes = np.asarray(shapes)"
   ]
  },
  {
   "cell_type": "code",
   "execution_count": 132,
   "id": "41d5ddd3-f219-4929-af21-bf922d9a1f2e",
   "metadata": {},
   "outputs": [
    {
     "data": {
      "text/plain": [
       "array([[471, 471, 306],\n",
       "       [409, 409, 302],\n",
       "       [481, 481, 261],\n",
       "       ...,\n",
       "       [400, 400, 457],\n",
       "       [410, 410, 236],\n",
       "       [349, 349, 248]])"
      ]
     },
     "execution_count": 132,
     "metadata": {},
     "output_type": "execute_result"
    }
   ],
   "source": [
    "shapes"
   ]
  },
  {
   "cell_type": "code",
   "execution_count": 123,
   "id": "b0666c74-0294-4553-8fbb-8d3200fecdf7",
   "metadata": {},
   "outputs": [],
   "source": [
    "shapes_sag, counts_sag = np.unique(shapes[:,1:], return_counts=True, axis=0)\n",
    "shapes_cor, counts_cor = np.unique(shapes[:,0:3:2,], return_counts=True, axis=0)\n",
    "shapes_ax, counts_ax = np.unique(shapes[:,:2], return_counts=True, axis=0)"
   ]
  },
  {
   "cell_type": "code",
   "execution_count": null,
   "id": "6e3cd57a-52f0-40db-8eca-7104fc6cf965",
   "metadata": {},
   "outputs": [],
   "source": [
    "plt.figure(figsize=(30,10))\n",
    "plt.subplot(131)\n",
    "plt.scatter(shapes_sag[:,0], shapes_sag[:,1], s=counts_sag^2)\n",
    "plt.title('Sagittal')\n",
    "\n",
    "plt.subplot(132)\n",
    "plt.scatter(shapes_cor[:,0], shapes_cor[:,1], s=counts_cor^2)\n",
    "plt.title('Coronal')\n",
    "\n",
    "plt.subplot(133)\n",
    "plt.scatter(shapes_ax[:,0], shapes_ax[:,1], s=counts_ax^2)\n",
    "plt.title('Axial');"
   ]
  },
  {
   "cell_type": "code",
   "execution_count": 126,
   "id": "f086597f-3ba2-4006-bb38-277861b94fe2",
   "metadata": {},
   "outputs": [
    {
     "data": {
      "text/plain": [
       "array([202, 225, 251, 266, 267, 275, 280, 282, 299, 300, 310, 312, 314,\n",
       "       318, 320, 323, 326, 330, 332, 333, 340, 341, 342, 343, 344, 345,\n",
       "       346, 347, 348, 349, 350, 351, 352, 353, 354, 355, 358, 359, 360,\n",
       "       361, 362, 364, 365, 366, 367, 368, 370, 372, 374, 375, 376, 377,\n",
       "       378, 379, 380, 381, 382, 384, 385, 386, 387, 388, 389, 390, 391,\n",
       "       392, 393, 394, 395, 396, 397, 398, 399, 400, 401, 402, 404, 405,\n",
       "       406, 408, 409, 410, 412, 413, 414, 415, 416, 417, 418, 419, 420,\n",
       "       421, 422, 423, 424, 425, 426, 427, 428, 429, 430, 432, 433, 434,\n",
       "       435, 436, 437, 438, 439, 440, 441, 442, 443, 444, 445, 446, 447,\n",
       "       448, 450, 451, 452, 453, 455, 456, 457, 458, 459, 460, 461, 463,\n",
       "       464, 465, 466, 467, 468, 470, 471, 472, 473, 474, 478, 480, 481,\n",
       "       482, 483, 485, 486, 487, 488, 490, 491, 492, 493, 494, 495, 496,\n",
       "       497, 499, 500, 504, 533])"
      ]
     },
     "execution_count": 126,
     "metadata": {},
     "output_type": "execute_result"
    }
   ],
   "source": [
    "np.unique(shapes[:,0])"
   ]
  },
  {
   "cell_type": "code",
   "execution_count": 127,
   "id": "5844cc89-1d08-4225-8044-8aa84471c00f",
   "metadata": {},
   "outputs": [
    {
     "data": {
      "text/plain": [
       "array([202, 225, 232, 242, 251, 266, 267, 275, 280, 282, 300, 310, 312,\n",
       "       314, 318, 320, 323, 326, 330, 332, 333, 340, 341, 342, 343, 344,\n",
       "       345, 346, 347, 348, 349, 350, 351, 352, 353, 354, 355, 358, 359,\n",
       "       360, 361, 362, 364, 365, 366, 367, 368, 370, 372, 374, 375, 376,\n",
       "       377, 378, 379, 380, 381, 382, 384, 385, 386, 387, 388, 389, 390,\n",
       "       391, 392, 393, 394, 395, 396, 397, 398, 399, 400, 401, 402, 404,\n",
       "       405, 406, 408, 409, 410, 412, 413, 414, 415, 416, 417, 418, 419,\n",
       "       420, 421, 422, 423, 424, 425, 426, 427, 428, 429, 430, 432, 433,\n",
       "       434, 435, 436, 437, 438, 439, 440, 441, 442, 443, 444, 445, 446,\n",
       "       447, 448, 450, 451, 452, 453, 455, 456, 457, 458, 459, 460, 461,\n",
       "       463, 464, 465, 466, 467, 468, 470, 471, 472, 473, 474, 478, 480,\n",
       "       481, 482, 483, 485, 486, 487, 488, 490, 491, 492, 493, 494, 495,\n",
       "       496, 497, 499, 500, 504, 533])"
      ]
     },
     "execution_count": 127,
     "metadata": {},
     "output_type": "execute_result"
    }
   ],
   "source": [
    "np.unique(shapes[:,1])"
   ]
  },
  {
   "cell_type": "code",
   "execution_count": 128,
   "id": "08d7ec34-0619-4a01-bb30-08e69b8d4fea",
   "metadata": {},
   "outputs": [
    {
     "data": {
      "text/plain": [
       "array([ 141,  142,  146,  148,  154,  156,  157,  160,  163,  166,  168,\n",
       "        171,  175,  176,  177,  178,  181,  184,  186,  187,  188,  191,\n",
       "        193,  196,  201,  205,  206,  211,  213,  214,  216,  217,  221,\n",
       "        223,  225,  226,  229,  231,  233,  234,  236,  238,  241,  246,\n",
       "        247,  248,  250,  251,  252,  253,  254,  256,  257,  258,  259,\n",
       "        261,  263,  264,  266,  270,  271,  274,  276,  277,  278,  279,\n",
       "        280,  281,  282,  283,  285,  286,  288,  289,  291,  292,  295,\n",
       "        296,  299,  301,  302,  304,  305,  306,  307,  308,  309,  311,\n",
       "        312,  313,  314,  316,  318,  319,  321,  325,  326,  327,  331,\n",
       "        333,  336,  337,  342,  344,  346,  349,  353,  360,  362,  364,\n",
       "        365,  368,  370,  372,  381,  385,  391,  394,  396,  406,  407,\n",
       "        408,  409,  411,  413,  415,  416,  417,  418,  421,  423,  424,\n",
       "        426,  430,  431,  433,  436,  439,  441,  442,  444,  445,  446,\n",
       "        448,  449,  451,  452,  454,  456,  457,  460,  461,  463,  464,\n",
       "        466,  469,  470,  471,  475,  476,  478,  481,  484,  486,  487,\n",
       "        488,  490,  491,  492,  493,  494,  496,  499,  501,  505,  506,\n",
       "        511,  514,  516,  520,  521,  525,  526,  530,  531,  532,  540,\n",
       "        541,  546,  547,  550,  556,  566,  567,  568,  586,  591,  598,\n",
       "        608,  616,  620,  621,  628,  631,  632,  633,  636,  643,  649,\n",
       "        651,  654,  661,  671,  679,  680,  681,  682,  689,  696,  701,\n",
       "        706,  711,  716,  721,  726,  734,  743,  754, 1414, 1435])"
      ]
     },
     "execution_count": 128,
     "metadata": {},
     "output_type": "execute_result"
    }
   ],
   "source": [
    "np.unique(shapes[:,2])"
   ]
  },
  {
   "cell_type": "markdown",
   "id": "ed0cd122-db8a-4f32-ba2f-b028e6e1cf78",
   "metadata": {},
   "source": [
    "## Header"
   ]
  },
  {
   "cell_type": "code",
   "execution_count": 8,
   "id": "34297691-936f-4e08-a3e3-33333c5f5272",
   "metadata": {},
   "outputs": [
    {
     "name": "stdout",
     "output_type": "stream",
     "text": [
      "<class 'nibabel.nifti1.Nifti1Header'> object, endian='<'\n",
      "sizeof_hdr      : 348\n",
      "data_type       : b''\n",
      "db_name         : b''\n",
      "extents         : 0\n",
      "session_error   : 0\n",
      "regular         : b''\n",
      "dim_info        : 0\n",
      "dim             : [  3 611 512 512   1   1   1   1]\n",
      "intent_p1       : 0.0\n",
      "intent_p2       : 0.0\n",
      "intent_p3       : 0.0\n",
      "intent_code     : none\n",
      "datatype        : float64\n",
      "bitpix          : 64\n",
      "slice_start     : 0\n",
      "pixdim          : [1.        0.5       0.9199219 0.9199219 1.        1.        1.\n",
      " 1.       ]\n",
      "vox_offset      : 0.0\n",
      "scl_slope       : nan\n",
      "scl_inter       : nan\n",
      "slice_end       : 0\n",
      "slice_code      : unknown\n",
      "xyzt_units      : 0\n",
      "cal_max         : 0.0\n",
      "cal_min         : 0.0\n",
      "slice_duration  : 0.0\n",
      "toffset         : 0.0\n",
      "glmax           : 0\n",
      "glmin           : 0\n",
      "descrip         : b''\n",
      "aux_file        : b''\n",
      "qform_code      : unknown\n",
      "sform_code      : aligned\n",
      "quatern_b       : -0.70710677\n",
      "quatern_c       : 0.0\n",
      "quatern_d       : 0.70710677\n",
      "qoffset_x       : 0.0\n",
      "qoffset_y       : 0.0\n",
      "qoffset_z       : 0.0\n",
      "srow_x          : [ 0.         0.        -0.9199219  0.       ]\n",
      "srow_y          : [ 0.        -0.9199219  0.         0.       ]\n",
      "srow_z          : [-0.5  0.   0.   0. ]\n",
      "intent_name     : b''\n",
      "magic           : b'n+1'\n"
     ]
    }
   ],
   "source": [
    "print(nib.load(img_paths[0]).header)"
   ]
  },
  {
   "cell_type": "code",
   "execution_count": 10,
   "id": "f99e23ac-3df1-48cd-ab97-c45c28475392",
   "metadata": {},
   "outputs": [
    {
     "name": "stdout",
     "output_type": "stream",
     "text": [
      "[64]\n"
     ]
    }
   ],
   "source": [
    "datatype = []\n",
    "for img_path in img_paths:\n",
    "    img_header = nib.load(img_path).header\n",
    "    datatype.append(img_header['datatype'])\n",
    "print(np.unique(datatype, axis=0))"
   ]
  },
  {
   "cell_type": "code",
   "execution_count": 11,
   "id": "dc4b5947-e139-4532-9e7d-89d60f768e5a",
   "metadata": {},
   "outputs": [
    {
     "name": "stdout",
     "output_type": "stream",
     "text": [
      "[64]\n"
     ]
    }
   ],
   "source": [
    "bitpix = []\n",
    "for img_path in img_paths:\n",
    "    img_header = nib.load(img_path).header\n",
    "    bitpix.append(img_header['bitpix'])\n",
    "print(np.unique(bitpix, axis=0))"
   ]
  },
  {
   "cell_type": "code",
   "execution_count": 12,
   "id": "07b3e6eb-572d-4d04-a388-ad7362cff4fa",
   "metadata": {},
   "outputs": [
    {
     "name": "stdout",
     "output_type": "stream",
     "text": [
      "[2]\n"
     ]
    }
   ],
   "source": [
    "code = []\n",
    "for img_path in img_paths:\n",
    "    img_header = nib.load(img_path).header\n",
    "    code.append(img_header['sform_code'])\n",
    "print(np.unique(code, axis=0))"
   ]
  },
  {
   "cell_type": "code",
   "execution_count": 21,
   "id": "d8d34a0c-3144-42d5-b7bc-d4c99d5e9894",
   "metadata": {},
   "outputs": [
    {
     "name": "stdout",
     "output_type": "stream",
     "text": [
      "[0]\n"
     ]
    }
   ],
   "source": [
    "units = []\n",
    "for img_path in img_paths:\n",
    "    img_header = nib.load(img_path).header\n",
    "    units.append(img_header['xyzt_units'])\n",
    "print(np.unique(units, axis=0))"
   ]
  },
  {
   "cell_type": "markdown",
   "id": "18f3e2a3-bb3b-4a83-8d6e-8a87d248d1a8",
   "metadata": {},
   "source": [
    "### Spacing"
   ]
  },
  {
   "cell_type": "code",
   "execution_count": 130,
   "id": "65574e83-59c9-46e9-875b-a617c024ceaf",
   "metadata": {},
   "outputs": [
    {
     "name": "stdout",
     "output_type": "stream",
     "text": [
      "[[1.         0.5        0.60546875 ... 1.         1.         1.        ]\n",
      " [1.         0.5        0.671875   ... 1.         1.         1.        ]\n",
      " [1.         0.5        0.703125   ... 1.         1.         1.        ]\n",
      " ...\n",
      " [1.         5.         0.976562   ... 1.         1.         1.        ]\n",
      " [1.         5.         0.9765625  ... 1.         1.         1.        ]\n",
      " [1.         5.         1.041      ... 1.         1.         1.        ]]\n"
     ]
    }
   ],
   "source": [
    "pixdim = []\n",
    "for img_path in img_paths:\n",
    "    img_header = nib.load(img_path).header\n",
    "    pixdim.append(img_header['pixdim'])\n",
    "print(np.unique(pixdim, axis=0))"
   ]
  },
  {
   "cell_type": "code",
   "execution_count": 131,
   "id": "57da71a5-113d-4172-94ad-d50d159b44b8",
   "metadata": {},
   "outputs": [
    {
     "data": {
      "text/plain": [
       "313"
      ]
     },
     "execution_count": 131,
     "metadata": {},
     "output_type": "execute_result"
    }
   ],
   "source": [
    "len(np.unique(pixdim, axis=0))"
   ]
  },
  {
   "cell_type": "code",
   "execution_count": 132,
   "id": "5e1ca79f-f3e2-45ce-ab68-17fee660b245",
   "metadata": {},
   "outputs": [
    {
     "data": {
      "text/plain": [
       "array([[0.5      , 0.9199219, 0.9199219],\n",
       "       [0.5      , 0.7988281, 0.7988281],\n",
       "       [1.       , 0.9394531, 0.9394531],\n",
       "       ...,\n",
       "       [3.       , 0.78125  , 0.78125  ],\n",
       "       [5.       , 0.800781 , 0.800781 ],\n",
       "       [1.       , 0.6816406, 0.6816406]], dtype=float32)"
      ]
     },
     "execution_count": 132,
     "metadata": {},
     "output_type": "execute_result"
    }
   ],
   "source": [
    "np.asarray(pixdim)[:,1:4]"
   ]
  },
  {
   "cell_type": "code",
   "execution_count": 167,
   "id": "078733b0-d18f-4aee-a2b3-6127a0bd6f17",
   "metadata": {},
   "outputs": [],
   "source": [
    "spacings = np.asarray(pixdim)[:,1:4]"
   ]
  },
  {
   "cell_type": "code",
   "execution_count": 168,
   "id": "3c4b9461-f66b-43fd-86af-2eb4cbca63f3",
   "metadata": {},
   "outputs": [
    {
     "name": "stdout",
     "output_type": "stream",
     "text": [
      "Median 3.0 0.78125 0.78125\n",
      "Mean 3.355028 0.7959208 0.7959208\n"
     ]
    }
   ],
   "source": [
    "print('Median', np.median(spacings[:,0]), np.median(spacings[:,1]), np.median(spacings[:,2]))\n",
    "print('Mean', np.mean(spacings[:,0]), np.mean(spacings[:,1]), np.mean(spacings[:,2]))"
   ]
  },
  {
   "cell_type": "code",
   "execution_count": null,
   "id": "bb7ba269-aff5-4ffb-b35f-b59977ae0dc1",
   "metadata": {},
   "outputs": [],
   "source": [
    "plt.figure(figsize=(17,6))\n",
    "plt.subplot(121)\n",
    "plt.hist(spacings[:,0])\n",
    "plt.xlabel('slice thickness [mm]')\n",
    "plt.title('Distribution of slice thicknesses')\n",
    "plt.subplot(122)\n",
    "plt.hist(spacings[:,1])\n",
    "plt.xlabel('pixel width [mm]')\n",
    "plt.title('Distribution of pixel widths');"
   ]
  },
  {
   "cell_type": "code",
   "execution_count": 143,
   "id": "8dce2112-cbdc-45c3-9980-0eb1436c4c65",
   "metadata": {},
   "outputs": [
    {
     "data": {
      "text/plain": [
       "2"
      ]
     },
     "execution_count": 143,
     "metadata": {},
     "output_type": "execute_result"
    }
   ],
   "source": [
    "np.sum(~np.equal(spacings[:,1], spacings[:,2]))"
   ]
  },
  {
   "cell_type": "code",
   "execution_count": 152,
   "id": "3fd401d2-0a72-4336-b07e-ef56ab5fc7c3",
   "metadata": {},
   "outputs": [
    {
     "data": {
      "text/plain": [
       "(array([0.6662688 , 0.47171834], dtype=float32),\n",
       " array([0.66626954, 0.47171876], dtype=float32))"
      ]
     },
     "execution_count": 152,
     "metadata": {},
     "output_type": "execute_result"
    }
   ],
   "source": [
    "spacings[:,1][~np.equal(spacings[:,1], spacings[:,2])], spacings[:,2][~np.equal(spacings[:,1], spacings[:,2])]"
   ]
  },
  {
   "cell_type": "markdown",
   "id": "94f553d6-1482-4c1d-9395-d1a467aa960a",
   "metadata": {},
   "source": [
    "## Intensity"
   ]
  },
  {
   "cell_type": "code",
   "execution_count": 33,
   "id": "8eaa8ced-a832-4c2f-81e7-e855ac7bd5c0",
   "metadata": {},
   "outputs": [],
   "source": [
    "max_intensities = []\n",
    "min_intensities = []\n",
    "for img_path in img_paths:\n",
    "    img = nib.load(img_path).get_fdata()\n",
    "    max_intensities.append(img.max())\n",
    "    min_intensities.append(img.min())"
   ]
  },
  {
   "cell_type": "code",
   "execution_count": null,
   "id": "0f348ad0-bc00-4f4c-a696-5dd981445e1c",
   "metadata": {},
   "outputs": [],
   "source": [
    "plt.figure(figsize=(15,7), tight_layout=True)\n",
    "for i, (intensities, title) in enumerate(zip([min_intensities, max_intensities], ['Min', 'Max']), start=1):\n",
    "    plt.subplot(1,2,i)\n",
    "    plt.title(f'Distribution of {title.lower()} intensity value')\n",
    "    sns.boxplot(x=[0]*len(intensities), y=intensities)\n",
    "    plt.ylabel(f'{title} intensity value')\n",
    "    plt.xlabel('')\n",
    "    plt.xticks([], []);"
   ]
  },
  {
   "cell_type": "markdown",
   "id": "37a84179-1bb8-4013-a6c4-a7cb56598825",
   "metadata": {},
   "source": [
    "## Labels"
   ]
  },
  {
   "cell_type": "code",
   "execution_count": 10,
   "id": "d8230413-11e7-4edd-a3a1-bd0aba33d585",
   "metadata": {
    "tags": []
   },
   "outputs": [],
   "source": [
    "values = []\n",
    "for seg_path in seg_paths:\n",
    "    seg = nib.load(seg_path).get_fdata()\n",
    "    values.append(tuple(np.unique(seg)))"
   ]
  },
  {
   "cell_type": "code",
   "execution_count": 11,
   "id": "d8652cd2-982b-4189-993b-313fd6f62d6d",
   "metadata": {},
   "outputs": [
    {
     "data": {
      "text/plain": [
       "{(0.0, 1.0, 2.0), (0.0, 1.0, 2.0, 3.0)}"
      ]
     },
     "execution_count": 11,
     "metadata": {},
     "output_type": "execute_result"
    }
   ],
   "source": [
    "set(values)"
   ]
  },
  {
   "cell_type": "markdown",
   "id": "05b0a551-deba-46d3-8c4e-5ac35a29d2b5",
   "metadata": {},
   "source": [
    "0. Background.\n",
    "1. Kidney: Includes all parenchyma and the non-adipose tissue within the hilum.\n",
    "2. Tumor: Masses found on the kidney that were pre-operatively suspected of being malignant.\n",
    "3. Cyst: Kidney masses radiologically (or pathologically, if available) determined to be cysts."
   ]
  },
  {
   "cell_type": "code",
   "execution_count": 63,
   "id": "24f016ec-0cdc-42c8-9ebf-1ca6c8f65b3c",
   "metadata": {},
   "outputs": [
    {
     "name": "stderr",
     "output_type": "stream",
     "text": [
      "100%|██████████| 489/489 [29:08<00:00,  3.58s/it]  \n"
     ]
    }
   ],
   "source": [
    "label_cnts = {'kidney': 0, 'tumor': 0, 'cyst': 0}\n",
    "for seg_path in tqdm(seg_paths):\n",
    "    seg = nib.load(seg_path).get_fdata()\n",
    "    \n",
    "    if np.sum(seg==1):\n",
    "        label_cnts['kidney'] += 1\n",
    "    if np.sum(seg==2):\n",
    "        label_cnts['tumor'] += 1\n",
    "    if np.sum(seg==3):\n",
    "        label_cnts['cyst'] += 1"
   ]
  },
  {
   "cell_type": "code",
   "execution_count": 64,
   "id": "a3e77fbc-8a78-49bf-a819-c479e2ae03de",
   "metadata": {},
   "outputs": [
    {
     "data": {
      "text/plain": [
       "{'kidney': 489, 'tumor': 489, 'cyst': 248}"
      ]
     },
     "execution_count": 64,
     "metadata": {},
     "output_type": "execute_result"
    }
   ],
   "source": [
    "label_cnts"
   ]
  },
  {
   "cell_type": "code",
   "execution_count": null,
   "id": "8d4b7ddb-2e8f-4bd5-a3fc-089f30c79bee",
   "metadata": {},
   "outputs": [],
   "source": [
    "plt.figure(figsize=(12,7))\n",
    "plt.bar([0,1,2], label_cnts.values())\n",
    "plt.xticks([0,1,2], label_cnts.keys())\n",
    "plt.title('Number of images with each class')\n",
    "plt.ylabel('# of images');"
   ]
  },
  {
   "cell_type": "markdown",
   "id": "ded188d9-302b-4cf2-bfd6-ea5376ee9a80",
   "metadata": {},
   "source": [
    "## Volumes"
   ]
  },
  {
   "cell_type": "code",
   "execution_count": 14,
   "id": "2c24196b-5ffc-488c-9635-a41d50540c2d",
   "metadata": {},
   "outputs": [],
   "source": [
    "kidney_volume = []\n",
    "tumor_volume = []\n",
    "cyst_volume = []\n",
    "\n",
    "for seg_path in seg_paths:\n",
    "    seg = nib.load(seg_path).get_fdata()\n",
    "    kidney_volume.append(np.sum(seg==1))\n",
    "    tumor_volume.append(np.sum(seg==2))\n",
    "    cyst_volume.append(np.sum(seg==3))"
   ]
  },
  {
   "cell_type": "code",
   "execution_count": null,
   "id": "bcf5b3ed-e838-492b-b4d5-917f88467ce4",
   "metadata": {},
   "outputs": [],
   "source": [
    "plt.figure(figsize=(20,9))\n",
    "plt.title('Distribution of objects volumes')\n",
    "sns.boxplot(data=[kidney_volume, tumor_volume, cyst_volume])\n",
    "plt.xticks(range(3), ['kidneys', 'tumor', 'cyst'])\n",
    "plt.ylabel('Volume [voxels]')\n",
    "plt.yscale('log')\n",
    "plt.ylim(1,1e7-10);"
   ]
  },
  {
   "cell_type": "code",
   "execution_count": null,
   "id": "b8fdf3e7-c299-417e-ae0b-60e40584e3bb",
   "metadata": {},
   "outputs": [],
   "source": [
    "plt.figure(figsize=(15,9))\n",
    "plt.title('Distribution of objects volumes')\n",
    "sns.violinplot(data=[kidney_volume, tumor_volume, cyst_volume], scale='count')\n",
    "plt.xticks(range(3), ['kidneys', 'tumor', 'cyst'])\n",
    "plt.ylabel('Volume [voxels]');\n",
    "# plt.yscale('log');\n",
    "# plt.ylim(1,1e7-10);"
   ]
  },
  {
   "cell_type": "markdown",
   "id": "97a5c1cf-4c87-4f57-8270-173ad7fe2df4",
   "metadata": {},
   "source": [
    "## Class weights"
   ]
  },
  {
   "cell_type": "code",
   "execution_count": 19,
   "id": "8716a4ce-0e09-46d2-9bc6-cc6655e27310",
   "metadata": {},
   "outputs": [
    {
     "name": "stderr",
     "output_type": "stream",
     "text": [
      "100%|██████████| 489/489 [07:47<00:00,  1.05it/s]  \n"
     ]
    }
   ],
   "source": [
    "background_volume = []\n",
    "kidney_volume = []\n",
    "tumor_volume = []\n",
    "cyst_volume = []\n",
    "\n",
    "for seg_path in tqdm(seg_paths):\n",
    "    seg = nib.load(seg_path).get_fdata()\n",
    "    background_volume.append(np.sum(seg==0))\n",
    "    kidney_volume.append(np.sum(seg==1))\n",
    "    tumor_volume.append(np.sum(seg==2))\n",
    "    cyst_volume.append(np.sum(seg==3))"
   ]
  },
  {
   "cell_type": "code",
   "execution_count": 26,
   "id": "2813ed11-2514-4112-972d-011460a3601b",
   "metadata": {},
   "outputs": [
    {
     "data": {
      "text/plain": [
       "(array(24799091219), array(157959782), array(45661388), array(3766459))"
      ]
     },
     "execution_count": 26,
     "metadata": {},
     "output_type": "execute_result"
    }
   ],
   "source": [
    "np.asarray(np.sum(background_volume)), np.asarray(np.sum(kidney_volume)), np.asarray(np.sum(tumor_volume)), np.asarray(np.sum(cyst_volume))"
   ]
  },
  {
   "cell_type": "markdown",
   "id": "41fca03a-a1ef-4eac-ada4-899df17bb1f0",
   "metadata": {},
   "source": [
    "https://scikit-learn.org/stable/modules/generated/sklearn.utils.class_weight.compute_class_weight.html\n",
    "<br>n_samples / (n_classes * np.bincount(y))"
   ]
  },
  {
   "cell_type": "code",
   "execution_count": 27,
   "id": "34118d03-fd30-4271-befe-8689a870c284",
   "metadata": {},
   "outputs": [],
   "source": [
    "sum_all = np.asarray(np.sum(background_volume)) + np.asarray(np.sum(kidney_volume)) + np.asarray(np.sum(tumor_volume)) + np.asarray(np.sum(cyst_volume))"
   ]
  },
  {
   "cell_type": "code",
   "execution_count": 30,
   "id": "ff5bd1fe-d408-47f4-96bf-530748f509f6",
   "metadata": {},
   "outputs": [],
   "source": [
    "background_weight = sum_all / (4 * np.sum(np.asarray(background_volume)))"
   ]
  },
  {
   "cell_type": "code",
   "execution_count": 31,
   "id": "f2dc364d-d0c0-4e98-890d-f820dbd3ad1e",
   "metadata": {},
   "outputs": [],
   "source": [
    "kidney_weight = sum_all / (4 * np.sum(np.asarray(kidney_volume)))"
   ]
  },
  {
   "cell_type": "code",
   "execution_count": 32,
   "id": "0622467a-0534-4b2c-8776-455f5d1f3ee5",
   "metadata": {},
   "outputs": [],
   "source": [
    "tumor_weight = sum_all / (4 * np.sum(np.asarray(tumor_volume)))"
   ]
  },
  {
   "cell_type": "code",
   "execution_count": 33,
   "id": "d02bbe5d-e830-4183-8175-358962146377",
   "metadata": {},
   "outputs": [],
   "source": [
    "cyst_weight = sum_all / (4 * np.sum(np.asarray(cyst_volume)))"
   ]
  },
  {
   "cell_type": "code",
   "execution_count": 35,
   "id": "90d8a427-7fe1-468a-8de9-6190544520ed",
   "metadata": {},
   "outputs": [
    {
     "data": {
      "text/plain": [
       "(0.252, 39.577, 136.913, 1659.814)"
      ]
     },
     "execution_count": 35,
     "metadata": {},
     "output_type": "execute_result"
    }
   ],
   "source": [
    "round(background_weight, 3), round(kidney_weight, 3), round(tumor_weight, 3), round(cyst_weight, 3)"
   ]
  },
  {
   "cell_type": "code",
   "execution_count": 39,
   "id": "7f7f9a4b-4918-4ebc-bae3-da4d8194069f",
   "metadata": {},
   "outputs": [
    {
     "data": {
      "text/plain": [
       "array([2.520000e-01, 3.957700e+01, 1.369130e+02, 1.659814e+03])"
      ]
     },
     "execution_count": 39,
     "metadata": {},
     "output_type": "execute_result"
    }
   ],
   "source": [
    "weights = np.asarray([round(background_weight, 3), round(kidney_weight, 3), round(tumor_weight, 3), round(cyst_weight, 3)])\n",
    "weights"
   ]
  },
  {
   "cell_type": "code",
   "execution_count": 42,
   "id": "6416146e-4032-4ca8-8a31-c41f50be177d",
   "metadata": {},
   "outputs": [
    {
     "data": {
      "text/plain": [
       "array([1.51824241e-04, 2.38442380e-02, 8.24869534e-02, 1.00000000e+00])"
      ]
     },
     "execution_count": 42,
     "metadata": {},
     "output_type": "execute_result"
    }
   ],
   "source": [
    "weights = weights/np.max(weights)\n",
    "weights"
   ]
  },
  {
   "cell_type": "markdown",
   "id": "904e7413-5228-4df3-a5a5-bc13bd1a057a",
   "metadata": {},
   "source": [
    "### Volumes percents"
   ]
  },
  {
   "cell_type": "code",
   "execution_count": 71,
   "id": "2cdbc39f-e146-41c7-9c3b-a4ee79fdcdb3",
   "metadata": {},
   "outputs": [
    {
     "name": "stdout",
     "output_type": "stream",
     "text": [
      "Kidney 0.632 %\n",
      "Tumor 0.183 %\n",
      "Cyst 0.015 %\n"
     ]
    }
   ],
   "source": [
    "print('Kidney', round(np.sum(kidney_volume)/sum_all *100,3), '%')\n",
    "print('Tumor', round(np.sum(tumor_volume)/sum_all *100,3), '%')\n",
    "print('Cyst', round(np.sum(cyst_volume)/sum_all *100,3), '%')"
   ]
  },
  {
   "cell_type": "markdown",
   "id": "abfb7c62-e1a4-4aa2-8260-5c6481b8de89",
   "metadata": {},
   "source": [
    "## Label heatmap"
   ]
  },
  {
   "cell_type": "code",
   "execution_count": 7,
   "id": "41a4410a-2aa1-48ae-92a0-c0491c8197da",
   "metadata": {},
   "outputs": [],
   "source": [
    "from monai.transforms import Compose, CenterSpatialCrop, LoadImage, Orientation, Spacing"
   ]
  },
  {
   "cell_type": "code",
   "execution_count": null,
   "id": "ed6b109d-7c92-4eec-927e-c7debeb7c95d",
   "metadata": {},
   "outputs": [],
   "source": [
    "t = Compose([LoadImage(image_only=True,\n",
    "                       ensure_channel_first=True),\n",
    "             Orientation(axcodes=\"RAS\"),\n",
    "             CenterSpatialCrop((512,512,-1))\n",
    "            ])\n",
    "\n",
    "sum_all = []\n",
    "for seg_path in tqdm(seg_paths):\n",
    "    seg = t(seg_path)\n",
    "    \n",
    "    sum_seg = torch.sum(seg, dim=(0,3))\n",
    "    sum_all.append(sum_seg)\n",
    "    \n",
    "labels = torch.stack(sum_all)\n",
    "labels = torch.sum(labels, dim=0)\n",
    "labels.shape\n",
    "\n",
    "plt.figure(figsize=(9,9))\n",
    "plt.imshow(labels, cmap='turbo')\n",
    "plt.axis('off');"
   ]
  },
  {
   "cell_type": "code",
   "execution_count": null,
   "id": "c93d263a-1222-4127-9402-bd034a8c6cec",
   "metadata": {},
   "outputs": [],
   "source": [
    "plt.figure(figsize=(9,9))\n",
    "plt.imshow((labels>0)*1, cmap='gray')\n",
    "plt.axis('off');"
   ]
  },
  {
   "cell_type": "code",
   "execution_count": null,
   "id": "54858beb-8f77-4f43-bb2b-ccd54500bf5b",
   "metadata": {},
   "outputs": [],
   "source": [
    "t = Compose([LoadImage(image_only=True,\n",
    "                       ensure_channel_first=True),\n",
    "             Orientation(axcodes=\"RAS\"),\n",
    "             CenterSpatialCrop((512,512,-1))\n",
    "            ])\n",
    "\n",
    "sum_kidney = []\n",
    "sum_tumor = []\n",
    "sum_cyst = []\n",
    "for seg_path in tqdm(seg_paths):\n",
    "    seg = t(seg_path)\n",
    "    \n",
    "    kidney_seg = (seg==1)*1\n",
    "    tumor_seg = (seg==2)*1\n",
    "    cyst_seg = (seg==3)*1\n",
    "    \n",
    "    sum_kidney.append(torch.sum(kidney_seg, dim=(0,3)))\n",
    "    sum_tumor.append(torch.sum(tumor_seg, dim=(0,3)))\n",
    "    sum_cyst.append(torch.sum(cyst_seg, dim=(0,3)))\n",
    "\n",
    "heatmap_kidney = torch.sum(torch.stack(sum_kidney), dim=0)\n",
    "heatmap_tumor = torch.sum(torch.stack(sum_tumor), dim=0)\n",
    "heatmap_cyst = torch.sum(torch.stack(sum_cyst), dim=0)\n",
    "\n",
    "plt.figure(figsize=(20,9))\n",
    "for i, heatmap in enumerate([heatmap_kidney, heatmap_tumor, heatmap_cyst], start=1):\n",
    "    plt.subplot(1,3,i)\n",
    "    plt.imshow(heatmap, cmap='turbo')\n",
    "    plt.axis('off');"
   ]
  },
  {
   "cell_type": "code",
   "execution_count": null,
   "id": "ccdc26ff-9c8e-48e0-be4c-ad3367bdf639",
   "metadata": {},
   "outputs": [],
   "source": [
    "plt.figure(figsize=(25,17))\n",
    "for i, (heatmap, cls_) in enumerate(zip([heatmap_kidney, heatmap_tumor, heatmap_cyst],\n",
    "                                      ['kidney', 'tumor', 'cyst']), start=1):\n",
    "    plt.subplot(2,3,i)\n",
    "    plt.imshow(heatmap, cmap='turbo')\n",
    "    plt.title(cls_)\n",
    "    plt.axis('off')\n",
    "    \n",
    "for i, heatmap in enumerate([heatmap_kidney, heatmap_tumor, heatmap_cyst], start=4):\n",
    "    plt.subplot(2,3,i)\n",
    "    plt.imshow((heatmap>0)*1, cmap='gray')\n",
    "    plt.axis('off')\n",
    "\n",
    "plt.tight_layout()"
   ]
  },
  {
   "cell_type": "markdown",
   "id": "484bf53b-2fff-41e3-bbfe-8098bbe9b6a9",
   "metadata": {},
   "source": [
    "### Check with 1mm voxel"
   ]
  },
  {
   "cell_type": "code",
   "execution_count": 16,
   "id": "6a27c60c-724e-4758-a7bb-f2c76061f1f1",
   "metadata": {},
   "outputs": [],
   "source": [
    "# t = Compose([LoadImage(image_only=True,\n",
    "#                        ensure_channel_first=True),\n",
    "#              Orientation(axcodes=\"RAS\"),\n",
    "#              Spacing(pixdim=(1.0, 1.0, 1.0)),\n",
    "#              CenterSpatialCrop((512,512,-1))\n",
    "#             ])\n",
    "\n",
    "# sum_kidney = []\n",
    "# sum_tumor = []\n",
    "# sum_cyst = []\n",
    "# for seg_path in tqdm(seg_paths):\n",
    "#     seg = t(seg_path)\n",
    "    \n",
    "#     kidney_seg = (seg==1)*1\n",
    "#     tumor_seg = (seg==2)*1\n",
    "#     cyst_seg = (seg==3)*1\n",
    "    \n",
    "#     sum_kidney.append(torch.sum(kidney_seg, dim=(0,3)))\n",
    "#     sum_tumor.append(torch.sum(tumor_seg, dim=(0,3)))\n",
    "#     sum_cyst.append(torch.sum(cyst_seg, dim=(0,3)))\n",
    "\n",
    "# heatmap_kidney = torch.sum(torch.stack(sum_kidney), dim=0)\n",
    "# heatmap_tumor = torch.sum(torch.stack(sum_tumor), dim=0)\n",
    "# heatmap_cyst = torch.sum(torch.stack(sum_cyst), dim=0)\n",
    "\n",
    "# plt.figure(figsize=(25,17))\n",
    "# for i, (heatmap, cls_) in enumerate(zip([heatmap_kidney, heatmap_tumor, heatmap_cyst],\n",
    "#                                       ['kidney', 'tumor', 'cyst']), start=1):\n",
    "#     plt.subplot(2,3,i)\n",
    "#     plt.imshow(heatmap, cmap='turbo')\n",
    "#     plt.title(cls_)\n",
    "#     plt.axis('off')\n",
    "    \n",
    "# for i, heatmap in enumerate([heatmap_kidney, heatmap_tumor, heatmap_cyst], start=4):\n",
    "#     plt.subplot(2,3,i)\n",
    "#     plt.imshow((heatmap>0)*1, cmap='gray')\n",
    "#     plt.axis('off')\n",
    "\n",
    "# plt.tight_layout()"
   ]
  },
  {
   "cell_type": "code",
   "execution_count": null,
   "id": "f5a0ef3d-0af1-40e9-a482-38c35a0a020a",
   "metadata": {},
   "outputs": [],
   "source": []
  }
 ],
 "metadata": {
  "kernelspec": {
   "display_name": "Python 3",
   "language": "python",
   "name": "python3"
  },
  "language_info": {
   "codemirror_mode": {
    "name": "ipython",
    "version": 3
   },
   "file_extension": ".py",
   "mimetype": "text/x-python",
   "name": "python",
   "nbconvert_exporter": "python",
   "pygments_lexer": "ipython3",
   "version": "3.8.12"
  }
 },
 "nbformat": 4,
 "nbformat_minor": 5
}
